{
 "cells": [
  {
   "cell_type": "code",
   "execution_count": 1,
   "metadata": {},
   "outputs": [],
   "source": [
    "import pandas as pd\n",
    "pd.plotting.register_matplotlib_converters()\n",
    "import matplotlib.pyplot as plt\n",
    "%matplotlib inline\n",
    "import seaborn as sns\n",
    "import numpy as np\n",
    "\n",
    "class Expert:\n",
    "    def __init__(self,\n",
    "                 loss=[0,1]):\n",
    "        '''\n",
    "        Since we're not working with any data in particular,\n",
    "        our experts will be dummies that return a value taken uniformly from its\n",
    "        loss range.\n",
    "        '''\n",
    "        self.loss = loss\n",
    "    def get_loss(self):\n",
    "        '''\n",
    "        Returns a value form the uniform distibution over loss\n",
    "        '''\n",
    "        low = self.loss[0]\n",
    "        high = self.loss[1]\n",
    "        return np.random.uniform(low, high)\n",
    "class EG:\n",
    "    def __init__(self,\n",
    "                experts=[]):\n",
    "        '''\n",
    "        '''\n",
    "        self.experts = experts\n",
    "\n",
    "    def _get_losses(self, T=1):\n",
    "        k = len(self.experts)\n",
    "        losses = np.empty(shape=(T,k))\n",
    "        for i in range(T):\n",
    "            for j in range(k):\n",
    "                losses[i,j] = self.experts[j].get_loss()\n",
    "        return losses\n",
    "    def add_experts(self, experts):\n",
    "        '''\n",
    "        experts should be a list of experts\n",
    "        '''\n",
    "        self.experts = self.experts + experts\n",
    "\n",
    "    def add_expert(self, expert):\n",
    "        '''\n",
    "        expert should be a single Expert object\n",
    "        '''\n",
    "        self.experts.append(expert)\n",
    "\n",
    "    def fire_experts():\n",
    "        '''\n",
    "        Clears all experts from EG\n",
    "        '''\n",
    "        self.experts = []\n",
    "\n",
    "    def get_advice(self, rounds = 1):\n",
    "        eta = np.sqrt(2/rounds)\n",
    "        k = len(self.experts)\n",
    "        # loss is our loss from a given set of trials.\n",
    "        loss = []\n",
    "        # losses is the losses from each expert on each round.\n",
    "        losses = self._get_losses(T=rounds)\n",
    "        x = np.full(k, fill_value=1/k)\n",
    "        # Since in this case our experts are going to be static\n",
    "        # We can get all the losses for T rounds at once then run the algorithm.\n",
    "        for t in range(rounds):\n",
    "            expert_id = np.random.choice(a=k,p=x)\n",
    "            loss.append(losses[t][expert_id])\n",
    "            l = [] \n",
    "            for j in range(k):\n",
    "                l.append(x[j]*np.exp(-eta*losses[t][j]))\n",
    "            for j in range(k):\n",
    "                x[j] = l[j]/sum(l)\n",
    "        return (x, loss, losses)\n",
    "            "
   ]
  },
  {
   "cell_type": "code",
   "execution_count": 2,
   "metadata": {},
   "outputs": [
    {
     "data": {
      "text/plain": [
       "<AxesSubplot:>"
      ]
     },
     "execution_count": 2,
     "metadata": {},
     "output_type": "execute_result"
    },
    {
     "data": {
      "image/png": "[encoded data removed]",
      "text/plain": [
       "<Figure size 432x288 with 1 Axes>"
      ]
     },
     "metadata": {
      "needs_background": "light"
     },
     "output_type": "display_data"
    }
   ],
   "source": [
    "e_1 = Expert()\n",
    "e_2 = Expert()\n",
    "model = EG(experts = [e_1, e_2])\n",
    "T = 1000\n",
    "data = model.get_advice(rounds = T)\n",
    "l = np.sum(data[2], axis=0)\n",
    "if l[0] < l[1]:\n",
    "    e = 0\n",
    "else:\n",
    "    e = 1\n",
    "sns.lineplot(x=range(T), y=np.cumsum(data[1]-data[2][:,e]))"
   ]
  },
  {
   "cell_type": "code",
   "execution_count": 3,
   "metadata": {},
   "outputs": [
    {
     "data": {
      "text/plain": [
       "<AxesSubplot:>"
      ]
     },
     "execution_count": 3,
     "metadata": {},
     "output_type": "execute_result"
    },
    {
     "data": {
      "image/png": "[encoded data removed]",
      "text/plain": [
       "<Figure size 432x288 with 1 Axes>"
      ]
     },
     "metadata": {
      "needs_background": "light"
     },
     "output_type": "display_data"
    }
   ],
   "source": [
    "e_1 = Expert(loss=[0,0.8])\n",
    "e_2 = Expert()\n",
    "model = EG(experts = [e_1, e_2])\n",
    "T = 1000\n",
    "data = model.get_advice(rounds = T)\n",
    "l = np.sum(data[2], axis=0)\n",
    "if l[0] < l[1]:\n",
    "    e = 0\n",
    "else:\n",
    "    e = 1\n",
    "sns.lineplot(x=range(T), y=np.cumsum(data[1]-data[2][:,e]))"
   ]
  },
  {
   "cell_type": "code",
   "execution_count": 4,
   "metadata": {},
   "outputs": [],
   "source": [
    "class FTRL:\n",
    "    def __init__(self,\n",
    "                experts=[]):\n",
    "        '''\n",
    "        '''\n",
    "        self.experts = experts\n",
    "\n",
    "    def _get_losses(self, T=1):\n",
    "        k = len(self.experts)\n",
    "        losses = np.empty(shape=(T,k))\n",
    "        for i in range(T):\n",
    "            for j in range(k):\n",
    "                losses[i,j] = self.experts[j].get_loss()\n",
    "        return losses\n",
    "    def add_experts(self, experts):\n",
    "        '''\n",
    "        experts should be a list of experts\n",
    "        '''\n",
    "        self.experts = self.experts + experts\n",
    "\n",
    "    def add_expert(self, expert):\n",
    "        '''\n",
    "        expert should be a single Expert object\n",
    "        '''\n",
    "        self.experts.append(expert)\n",
    "\n",
    "    def fire_experts():\n",
    "        '''\n",
    "        Clears all experts from EG\n",
    "        '''\n",
    "        self.experts = []\n",
    "\n",
    "    def get_advice(self, rounds = 1):\n",
    "        k = len(self.experts)\n",
    "        # loss is our loss from a given set of trials.\n",
    "        loss = []\n",
    "        # losses is the losses from each expert on each round.\n",
    "        losses = self._get_losses(T=rounds)\n",
    "        g_l=np.cumsum(losses, axis=0)\n",
    "        x = np.full(k, fill_value=1/k)\n",
    "        # Since in this case our experts are going to be static\n",
    "        # We can get all the losses for T rounds at once then run the algorithm.\n",
    "        for t in range(rounds):\n",
    "            expert_id = np.random.choice(a=k,p=x)\n",
    "            loss.append(losses[t][expert_id])\n",
    "            l = []\n",
    "            for j in range(k):\n",
    "                l.append(np.exp(-(np.sqrt(np.log(k))/np.sqrt(t+1))*g_l[t,j]))\n",
    "            for j in range(k):\n",
    "                x[j] = l[j]/np.sum(l)\n",
    "        return (x, loss, losses)"
   ]
  },
  {
   "cell_type": "code",
   "execution_count": 5,
   "metadata": {},
   "outputs": [
    {
     "data": {
      "text/plain": [
       "<AxesSubplot:>"
      ]
     },
     "execution_count": 5,
     "metadata": {},
     "output_type": "execute_result"
    },
    {
     "data": {
      "image/png": "[encoded data removed]",
      "text/plain": [
       "<Figure size 432x288 with 1 Axes>"
      ]
     },
     "metadata": {
      "needs_background": "light"
     },
     "output_type": "display_data"
    }
   ],
   "source": [
    "e_1 = Expert(loss=[0,0.8])\n",
    "e_2 = Expert()\n",
    "model = EG(experts = [e_1, e_2])\n",
    "T = 10000\n",
    "data = model.get_advice(rounds = T)\n",
    "l = np.sum(data[2], axis=0)\n",
    "if l[0] < l[1]:\n",
    "    e = 0\n",
    "else:\n",
    "    e = 1\n",
    "sns.lineplot(x=range(T), y=np.cumsum(data[1]-data[2][:,e]))"
   ]
  },
  {
   "cell_type": "code",
   "execution_count": 6,
   "metadata": {},
   "outputs": [
    {
     "data": {
      "text/plain": [
       "<AxesSubplot:>"
      ]
     },
     "execution_count": 6,
     "metadata": {},
     "output_type": "execute_result"
    },
    {
     "data": {
      "image/png": "[encoded data removed]",
      "text/plain": [
       "<Figure size 432x288 with 1 Axes>"
      ]
     },
     "metadata": {
      "needs_background": "light"
     },
     "output_type": "display_data"
    }
   ],
   "source": [
    "e_1 = Expert(loss=[0,0.8])\n",
    "e_2 = Expert()\n",
    "model = FTRL(experts = [e_1, e_2])\n",
    "T = 10000\n",
    "data = model.get_advice(rounds = T)\n",
    "l = np.sum(data[2], axis=0)\n",
    "if l[0] < l[1]:\n",
    "    e = 0\n",
    "else:\n",
    "    e = 1\n",
    "sns.lineplot(x=range(T), y=np.cumsum(data[1]-data[2][:,e]))"
   ]
  },
  {
   "cell_type": "code",
   "execution_count": null,
   "metadata": {},
   "outputs": [],
   "source": []
  }
 ],
 "metadata": {
  "kernelspec": {
   "display_name": "Python 3 (ipykernel)",
   "language": "python",
   "name": "python3"
  },
  "language_info": {
   "codemirror_mode": {
    "name": "ipython",
    "version": 3
   },
   "file_extension": ".py",
   "mimetype": "text/x-python",
   "name": "python",
   "nbconvert_exporter": "python",
   "pygments_lexer": "ipython3",
   "version": "3.9.7"
  }
 },
 "nbformat": 4,
 "nbformat_minor": 2
}
